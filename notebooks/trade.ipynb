{
 "cells": [
  {
   "cell_type": "markdown",
   "id": "363f8b9f-5886-4b48-9fe1-ffab0349f0a0",
   "metadata": {},
   "source": [
    "# Trade\n",
    "\n",
    "The purpose of this notebook is to review and visualize functionality in this app, namely around trade."
   ]
  },
  {
   "cell_type": "code",
   "execution_count": 1,
   "id": "983d8418-8363-4efb-9e66-bf10cb06078a",
   "metadata": {},
   "outputs": [],
   "source": [
    "import os\n",
    "\n",
    "os.chdir(\"../\")"
   ]
  },
  {
   "cell_type": "code",
   "execution_count": 2,
   "id": "81f4140b-c7d9-480a-9d3c-d55c026aee00",
   "metadata": {},
   "outputs": [],
   "source": [
    "from trader.dao.dao import DAO\n",
    "\n",
    "dao = DAO()"
   ]
  },
  {
   "cell_type": "code",
   "execution_count": 3,
   "id": "b476cb5b-2301-46f1-903d-cc738d0e88a0",
   "metadata": {},
   "outputs": [],
   "source": [
    "from trader.dao.markets import get_market_trade_goods_by_system\n",
    "from trader.dao.waypoints import get_waypoints_by_system_symbol\n",
    "from trader.roles.merchant.finder import generate_arbitrage_opportunities\n",
    "\n",
    "system_symbol = \"X1-BA28\"\n",
    "trade_goods = get_market_trade_goods_by_system(\n",
    "    engine=dao.engine, system_symbol=system_symbol\n",
    ")\n",
    "\n",
    "waypoints = get_waypoints_by_system_symbol(\n",
    "    engine=dao.engine, system_symbol=system_symbol\n",
    ")\n",
    "arbitrage_opportunities = generate_arbitrage_opportunities(\n",
    "    market_trade_goods=trade_goods, waypoints=waypoints\n",
    ")"
   ]
  },
  {
   "cell_type": "code",
   "execution_count": 4,
   "id": "6128735d-e83e-4b92-9f64-2dd8f101de92",
   "metadata": {},
   "outputs": [
    {
     "name": "stdout",
     "output_type": "stream",
     "text": [
      "Found most profitable trade of SHIP_PLATING (distance - 81.49233092751734): at 117.13985710496621 profit:distance ratio\n",
      "At CRUISE for a frigate, this yields 6325552.283668175 of profit per hour\n"
     ]
    }
   ],
   "source": [
    "from math import dist\n",
    "from typing import Dict\n",
    "\n",
    "from trader.roles.merchant.merchant import MAXIMUM_PERCENT_OF_ACCOUNT_PURCHASE\n",
    "from trader.roles.merchant.finder import (\n",
    "    ArbitrageOpportunity,\n",
    "    find_most_profitable_trade_in_system,\n",
    ")\n",
    "from trader.roles.navigator.geometry import (\n",
    "    generate_graph_from_waypoints_means_shift_clustering,\n",
    ")\n",
    "\n",
    "account_value = 200000\n",
    "ship_speed = 30  # default frigate speed, apparently\n",
    "\n",
    "waypoints = get_waypoints_by_system_symbol(\n",
    "    engine=dao.engine, system_symbol=system_symbol\n",
    ")\n",
    "\n",
    "most_profitable_trade = find_most_profitable_trade_in_system(\n",
    "    maximum_purchase_price=MAXIMUM_PERCENT_OF_ACCOUNT_PURCHASE * account_value,\n",
    "    trade_goods=trade_goods,\n",
    "    waypoints=waypoints,\n",
    "    prefer_within_cluster=True,\n",
    ")\n",
    "\n",
    "distance = dist(\n",
    "    [\n",
    "        most_profitable_trade.purchase_waypoint.x,\n",
    "        most_profitable_trade.purchase_waypoint.y,\n",
    "    ],\n",
    "    [\n",
    "        most_profitable_trade.sell_waypoint.x,\n",
    "        most_profitable_trade.sell_waypoint.y,\n",
    "    ],\n",
    ")\n",
    "profit_distance_ratio = most_profitable_trade.profit / distance\n",
    "print(\n",
    "    f\"Found most profitable trade of {most_profitable_trade.trade_good_symbol} (distance - {distance}): at {profit_distance_ratio} profit:distance ratio\"\n",
    ")\n",
    "time_to_travel_distance = (distance * 2) / ship_speed  # should be in seconds\n",
    "trips_per_hour = 3600 / time_to_travel_distance\n",
    "profit_per_hour = trips_per_hour * most_profitable_trade.profit\n",
    "print(f\"At CRUISE for a frigate, this yields {profit_per_hour} of profit per hour\")"
   ]
  }
 ],
 "metadata": {
  "kernelspec": {
   "display_name": "Python 3 (ipykernel)",
   "language": "python",
   "name": "python3"
  },
  "language_info": {
   "codemirror_mode": {
    "name": "ipython",
    "version": 3
   },
   "file_extension": ".py",
   "mimetype": "text/x-python",
   "name": "python",
   "nbconvert_exporter": "python",
   "pygments_lexer": "ipython3",
   "version": "3.12.0"
  }
 },
 "nbformat": 4,
 "nbformat_minor": 5
}
